{
 "cells": [
  {
   "cell_type": "markdown",
   "id": "c134e73b",
   "metadata": {},
   "source": [
    "# Numpy practicing "
   ]
  },
  {
   "cell_type": "code",
   "execution_count": 22,
   "id": "f68b48a0",
   "metadata": {},
   "outputs": [
    {
     "name": "stdout",
     "output_type": "stream",
     "text": [
      "[4, 6, 8, 10, 12, 14, 16, 18, 20, 22, 24, 26, 28, 30, 32, 34, 36, 38, 40, 42, 44, 46, 48, 50, 52]\n"
     ]
    }
   ],
   "source": [
    "list1=[x*2 for x in range(2,27)]\n",
    "print(list1)"
   ]
  },
  {
   "cell_type": "code",
   "execution_count": 23,
   "id": "a3a88585",
   "metadata": {},
   "outputs": [
    {
     "name": "stdout",
     "output_type": "stream",
     "text": [
      "Requirement already satisfied: names in c:\\users\\acer\\anaconda3\\lib\\site-packages (0.3.0)\n",
      "['Jason Cummings', 'Carol Anderson', 'Joseph Adams', 'Anna Meriwether', 'Samuel Vasquez', 'Keith Tesch', 'Jordan Smart', 'Ruby Hollis', 'Cristine Poling', 'Johnny Harris']\n"
     ]
    }
   ],
   "source": [
    "!pip install names\n",
    "import names \n",
    "list3=[names.get_full_name() for x in range(10)]\n",
    "print(list3)"
   ]
  },
  {
   "cell_type": "code",
   "execution_count": 25,
   "id": "86d750a8",
   "metadata": {
    "scrolled": true
   },
   "outputs": [
    {
     "name": "stdout",
     "output_type": "stream",
     "text": [
      "[(1, 'Jason Cummings'), (2, 'Carol Anderson'), (3, 'Joseph Adams'), (4, 'Anna Meriwether'), (5, 'Samuel Vasquez'), (6, 'Keith Tesch'), (7, 'Jordan Smart'), (8, 'Ruby Hollis'), (9, 'Cristine Poling'), (10, 'Johnny Harris')]\n"
     ]
    }
   ],
   "source": [
    "list4=[x for x in enumerate(list3,1)]  # enumerate requires iterable data type \n",
    "print(list4)"
   ]
  },
  {
   "cell_type": "code",
   "execution_count": 29,
   "id": "2f8f5a70",
   "metadata": {},
   "outputs": [
    {
     "name": "stdout",
     "output_type": "stream",
     "text": [
      "[['1' 'Jason Cummings']\n",
      " ['2' 'Carol Anderson']\n",
      " ['3' 'Joseph Adams']\n",
      " ['4' 'Anna Meriwether']\n",
      " ['5' 'Samuel Vasquez']\n",
      " ['6' 'Keith Tesch']\n",
      " ['7' 'Jordan Smart']\n",
      " ['8' 'Ruby Hollis']\n",
      " ['9' 'Cristine Poling']\n",
      " ['10' 'Johnny Harris']]\n",
      "<class 'numpy.ndarray'>\n"
     ]
    }
   ],
   "source": [
    "import numpy as np \n",
    "np_array_1=np.array(list4)\n",
    "print(np_array_1)\n",
    "print(type(np_array_1)) # nd array it means that this type of list is numpy array"
   ]
  },
  {
   "cell_type": "code",
   "execution_count": 35,
   "id": "a0c48491",
   "metadata": {},
   "outputs": [
    {
     "name": "stdout",
     "output_type": "stream",
     "text": [
      "[1 2 3 4]\n",
      "<class 'numpy.ndarray'>\n",
      "['Smith' 'Charles' '2' 'True']\n"
     ]
    }
   ],
   "source": [
    "np_array=np.array([1,2,3,4])\n",
    "np_array_test=np.array([\"Smith\",\"Charles\",2,True]) \n",
    "# Numpy contain just one type of data it means that if our list consists of int,string and bool type of elements numpy will convert all of them to string\n",
    "print(np_array)\n",
    "print(type(np_array))\n",
    "print(np_array_test)"
   ]
  },
  {
   "cell_type": "code",
   "execution_count": 45,
   "id": "7279283c",
   "metadata": {},
   "outputs": [
    {
     "name": "stdout",
     "output_type": "stream",
     "text": [
      "[0 1 2 3 4 5 6 7 8 9]\n"
     ]
    }
   ],
   "source": [
    "np_array_2=np.arange(10) # create numpy array which the elements of array begin from 0 to 9. \n",
    "#The code block says that create a numpy array and it must be 10 elements \n",
    "print(np_array_2)"
   ]
  },
  {
   "cell_type": "code",
   "execution_count": 46,
   "id": "d888ec41",
   "metadata": {},
   "outputs": [
    {
     "name": "stdout",
     "output_type": "stream",
     "text": [
      "[ 0  1  2  3  4  5  6  7  8  9 10 11 12 13 14 15 16 17 18 19 20]\n"
     ]
    }
   ],
   "source": [
    "np_array_3=np.arange(21)\n",
    "print(np_array_3)"
   ]
  },
  {
   "cell_type": "code",
   "execution_count": 50,
   "id": "623f89f0",
   "metadata": {},
   "outputs": [
    {
     "name": "stdout",
     "output_type": "stream",
     "text": [
      "It is numpy array,\n",
      " [[ 1  2  3  4]\n",
      " [ 5  6  7  8]\n",
      " [ 9 10 11 12]] and type of it <class 'numpy.ndarray'>\n",
      "The elements which index is 2 [ 9 10 11 12]\n"
     ]
    }
   ],
   "source": [
    "a = np.array([[1, 2, 3, 4], [5, 6, 7, 8], [9, 10, 11, 12]])\n",
    "print(f\"It is numpy array,\\n {a} and type of it {type(a)}\")\n",
    "print(f\"The elements which index is 2 {a[2]}\")"
   ]
  },
  {
   "cell_type": "code",
   "execution_count": 52,
   "id": "9a9279e3",
   "metadata": {},
   "outputs": [],
   "source": [
    "# A vector is an array with a single dimension (there’s no difference between row and column vectors)\n",
    "# A matrix refers to an array with two dimensions. For 3-D or higher dimensional arrays, the term tensor is also commonly used.\n",
    "# Dimensions are called axes"
   ]
  },
  {
   "cell_type": "code",
   "execution_count": 53,
   "id": "0da0556a",
   "metadata": {},
   "outputs": [
    {
     "name": "stdout",
     "output_type": "stream",
     "text": [
      "[0. 0. 0. 0. 0.]\n"
     ]
    }
   ],
   "source": [
    "# Create numpy array which all elements of this array will be zero and it is called zeros nd array\n",
    "print(np.zeros(5)) # output shown as float"
   ]
  },
  {
   "cell_type": "code",
   "execution_count": 54,
   "id": "faffaa6c",
   "metadata": {},
   "outputs": [
    {
     "name": "stdout",
     "output_type": "stream",
     "text": [
      "[0. 0. 0. 0. 0. 0. 0. 0. 0. 0.]\n"
     ]
    }
   ],
   "source": [
    "print(np.zeros(10))"
   ]
  },
  {
   "cell_type": "code",
   "execution_count": 55,
   "id": "7b728669",
   "metadata": {},
   "outputs": [
    {
     "name": "stdout",
     "output_type": "stream",
     "text": [
      "[1. 1. 1. 1. 1. 1. 1.]\n"
     ]
    }
   ],
   "source": [
    "# We also have ones numpy array or ndarray and all elements of this array is one\n",
    "print(np.ones(7)) # again output will be float"
   ]
  },
  {
   "cell_type": "code",
   "execution_count": 56,
   "id": "488caeb8",
   "metadata": {},
   "outputs": [
    {
     "name": "stdout",
     "output_type": "stream",
     "text": [
      "[1. 1. 1. 1. 1. 1. 1. 1. 1. 1. 1. 1.]\n"
     ]
    }
   ],
   "source": [
    "print(np.ones(12))"
   ]
  },
  {
   "cell_type": "code",
   "execution_count": 57,
   "id": "67efa000",
   "metadata": {},
   "outputs": [
    {
     "name": "stdout",
     "output_type": "stream",
     "text": [
      "[0.00000000e+000 0.00000000e+000 0.00000000e+000 0.00000000e+000\n",
      " 0.00000000e+000 6.56119178e-321 8.34445137e-308 2.14321575e-312]\n"
     ]
    }
   ],
   "source": [
    "# Sometimes we create empty ndarray  instead of zeros ndarray due to the speed factor\n",
    "# This array consists of randomly numbers\n",
    "print(np.empty(8))"
   ]
  },
  {
   "cell_type": "code",
   "execution_count": 59,
   "id": "116f45df",
   "metadata": {},
   "outputs": [
    {
     "name": "stdout",
     "output_type": "stream",
     "text": [
      "[ 0  1  2  3  4  5  6  7  8  9 10 11 12 13 14 15 16 17 18 19]\n"
     ]
    }
   ],
   "source": [
    "print(np.arange(20))"
   ]
  },
  {
   "cell_type": "code",
   "execution_count": 60,
   "id": "2a384aaa",
   "metadata": {},
   "outputs": [
    {
     "name": "stdout",
     "output_type": "stream",
     "text": [
      "[100 101 102 103 104 105 106 107 108 109 110 111 112 113 114 115 116 117\n",
      " 118 119 120 121 122 123 124 125 126 127 128 129]\n"
     ]
    }
   ],
   "source": [
    "print(np.arange(100,130))"
   ]
  },
  {
   "cell_type": "code",
   "execution_count": 61,
   "id": "502b3d72",
   "metadata": {},
   "outputs": [
    {
     "name": "stdout",
     "output_type": "stream",
     "text": [
      "[125 130 135 140 145 150 155 160 165 170 175]\n"
     ]
    }
   ],
   "source": [
    "print(np.arange(125,180,5))"
   ]
  },
  {
   "cell_type": "code",
   "execution_count": 64,
   "id": "141ebd03",
   "metadata": {},
   "outputs": [
    {
     "name": "stdout",
     "output_type": "stream",
     "text": [
      "[ 5.         13.33333333 21.66666667 30.        ]\n"
     ]
    }
   ],
   "source": [
    "print(np.linspace(5,30,4)) # bu function verilen araliqda neçə interval olmasina gore bolur ededleri\n",
    "# yani burada 5 ve 12 arasinda 4 beraber yere bolunmesini isteyir. Ilk ve son yani serhed olmasi ucun yazdigimiz araliqdaki ededler (5,30) eyni qalir"
   ]
  },
  {
   "cell_type": "code",
   "execution_count": 65,
   "id": "9fdedca6",
   "metadata": {},
   "outputs": [
    {
     "name": "stdout",
     "output_type": "stream",
     "text": [
      "[100.         109.09090909 118.18181818 127.27272727 136.36363636\n",
      " 145.45454545 154.54545455 163.63636364 172.72727273 181.81818182\n",
      " 190.90909091 200.        ]\n"
     ]
    }
   ],
   "source": [
    "print(np.linspace(100,200,12))"
   ]
  },
  {
   "cell_type": "code",
   "execution_count": 70,
   "id": "8e736b38",
   "metadata": {},
   "outputs": [
    {
     "name": "stdout",
     "output_type": "stream",
     "text": [
      "[1 1 1 1 1]\n",
      "[0 0 0 0 0 0 0 0 0 0 0 0]\n"
     ]
    }
   ],
   "source": [
    "print(np.ones(5,dtype=np.int64)) # normally it must return float64 type of data however when we want to convert the type of it we can use this code part\n",
    "print(np.zeros(12,dtype=np.int64))"
   ]
  },
  {
   "cell_type": "code",
   "execution_count": 73,
   "id": "7dd751a5",
   "metadata": {},
   "outputs": [
    {
     "name": "stdout",
     "output_type": "stream",
     "text": [
      "[19 24  3 10 15 30 43]\n",
      "[ 3 10 15 19 24 30 43]\n"
     ]
    }
   ],
   "source": [
    "list_random=[19,24,3,10,15,30,43]\n",
    "np_array_random=np.array(list_random)\n",
    "print(np_array_random)\n",
    "print(np.sort(np_array_random))"
   ]
  },
  {
   "cell_type": "code",
   "execution_count": 74,
   "id": "98ffce20",
   "metadata": {},
   "outputs": [
    {
     "name": "stdout",
     "output_type": "stream",
     "text": [
      "[ 3 10 15 19 24 30 43]\n"
     ]
    }
   ],
   "source": [
    "np_array_5=np.array([19,24,3,10,15,30,43])\n",
    "print(np.sort(np_array_5))"
   ]
  },
  {
   "cell_type": "code",
   "execution_count": 80,
   "id": "7ebf080b",
   "metadata": {},
   "outputs": [
    {
     "data": {
      "text/plain": [
       "array([[ 4, 10],\n",
       "       [ 1,  3]])"
      ]
     },
     "execution_count": 80,
     "metadata": {},
     "output_type": "execute_result"
    }
   ],
   "source": [
    "b = np.array([[10,4],[3,1]]) # sort along the last axis, her setirdeki matricin ve ya vectorun icini sort edir \n",
    "np.sort(b)  "
   ]
  },
  {
   "cell_type": "code",
   "execution_count": 81,
   "id": "303b2948",
   "metadata": {},
   "outputs": [
    {
     "data": {
      "text/plain": [
       "array([ 1,  3,  4, 10])"
      ]
     },
     "execution_count": 81,
     "metadata": {},
     "output_type": "execute_result"
    }
   ],
   "source": [
    "np.sort(b, axis=None)  # sort the flattened array"
   ]
  },
  {
   "cell_type": "code",
   "execution_count": 84,
   "id": "abe0be81",
   "metadata": {},
   "outputs": [
    {
     "data": {
      "text/plain": [
       "array([[ 3,  1],\n",
       "       [10,  4]])"
      ]
     },
     "execution_count": 84,
     "metadata": {},
     "output_type": "execute_result"
    }
   ],
   "source": [
    "np.sort(b, axis=0)  # sort along the first axis"
   ]
  },
  {
   "cell_type": "code",
   "execution_count": 87,
   "id": "ef027222",
   "metadata": {},
   "outputs": [
    {
     "name": "stdout",
     "output_type": "stream",
     "text": [
      "[ 0  1  2  3  4  5  6  7  8  9 10 11 12 13 14]\n",
      "[20 21 22 23 24 25 26 27 28 29 30 31 32 33 34]\n",
      "[20 22 24 26 28 30 32 34 36 38 40 42 44 46 48]\n"
     ]
    }
   ],
   "source": [
    "nd_array_1=np.array([x for x in range(0,15)])\n",
    "nd_array_2=np.array([y for y in range(20,35)])\n",
    "print(nd_array_1)\n",
    "print(nd_array_2)\n",
    "# to execute this operation we must pay attention the shape of numpy arrays if they aren't equal we will face error\n",
    "print(nd_array_1+nd_array_2) "
   ]
  },
  {
   "cell_type": "code",
   "execution_count": 92,
   "id": "8710bcd4",
   "metadata": {},
   "outputs": [
    {
     "name": "stdout",
     "output_type": "stream",
     "text": [
      "[ 0  1  2  3  4  5  6  7  8  9 10 11 12 13 14]\n",
      "[20 21 22 23 24 25 26 27 28 29 30 31 32 33 34]\n",
      "[ 0  1  2  3  4  5  6  7  8  9 10 11 12 13 14 20 21 22 23 24 25 26 27 28\n",
      " 29 30 31 32 33 34]\n"
     ]
    }
   ],
   "source": [
    "nd_array_1=np.array([0,1,2,3,4,5,6,7,8,9,10,11,12,13,14])\n",
    "nd_array_2=np.array([20,21,22,23,24,25,26,27,28,29,30,31,32,33,34])\n",
    "print(nd_array_1)\n",
    "print(nd_array_2)\n",
    "print(np.concatenate((nd_array_1,nd_array_2))) # pay attention the number of bracelets"
   ]
  },
  {
   "cell_type": "code",
   "execution_count": 95,
   "id": "d4991ee2",
   "metadata": {},
   "outputs": [
    {
     "name": "stdout",
     "output_type": "stream",
     "text": [
      "[[1 2]\n",
      " [3 4]\n",
      " [5 6]]\n",
      "(3, 2)\n"
     ]
    }
   ],
   "source": [
    "x = np.array([[1, 2], [3, 4]])\n",
    "y = np.array([[5, 6]])\n",
    "print(np.concatenate((x,y)))\n",
    "print(np.shape(np.concatenate((x,y))))"
   ]
  },
  {
   "cell_type": "code",
   "execution_count": 97,
   "id": "99ef2c71",
   "metadata": {},
   "outputs": [
    {
     "name": "stdout",
     "output_type": "stream",
     "text": [
      "[[1 2]\n",
      " [3 4]\n",
      " [5 6]]\n",
      "(3, 2)\n"
     ]
    }
   ],
   "source": [
    "np.concatenate((x, y), axis=0)\n",
    "print(np.concatenate((x, y), axis=0))\n",
    "print(np.shape(np.concatenate((x, y), axis=0)))"
   ]
  },
  {
   "cell_type": "code",
   "execution_count": 107,
   "id": "b6dfd411",
   "metadata": {},
   "outputs": [
    {
     "name": "stdout",
     "output_type": "stream",
     "text": [
      "[[[0 1 2 3]\n",
      "  [4 5 6 7]]\n",
      "\n",
      " [[0 1 2 3]\n",
      "  [4 5 6 7]]\n",
      "\n",
      " [[0 1 2 3]\n",
      "  [4 5 6 7]]]\n",
      "Dimension of array is: 3\n"
     ]
    }
   ],
   "source": [
    "# ndarray.ndim will tell you the number of axes, or dimensions, of the array\n",
    "# sondaki moterizelerin sayina gore bilmek olar\n",
    "array_example = np.array([[[0, 1, 2, 3],\n",
    "                           [4, 5, 6, 7]],\n",
    "\n",
    "                          [[0, 1, 2, 3],\n",
    "                           [4, 5, 6, 7]],\n",
    "\n",
    "                          [[0 ,1 ,2, 3],\n",
    "                           [4, 5, 6, 7]]])\n",
    "print(array_example)\n",
    "print(f\"Dimension of array is: {array_example.ndim}\")"
   ]
  },
  {
   "cell_type": "code",
   "execution_count": 109,
   "id": "a50cb2a5",
   "metadata": {},
   "outputs": [
    {
     "name": "stdout",
     "output_type": "stream",
     "text": [
      "[[[0 1 2 3]\n",
      "  [4 5 6 7]]\n",
      "\n",
      " [[0 1 2 3]\n",
      "  [4 5 6 7]]\n",
      "\n",
      " [[0 1 2 3]\n",
      "  [4 5 6 7]]]\n",
      "Size of array is: 24\n"
     ]
    }
   ],
   "source": [
    "# ndarray.size will tell you the total number of elements of the array. This is the product of the elements of the array’s shape\n",
    "array_example_1 = np.array([[[0, 1, 2, 3],\n",
    "                           [4, 5, 6, 7]],\n",
    "\n",
    "                          [[0, 1, 2, 3],\n",
    "                           [4, 5, 6, 7]],\n",
    "\n",
    "                          [[0 ,1 ,2, 3],\n",
    "                           [4, 5, 6, 7]]])\n",
    "print(array_example_1)\n",
    "print(f\"Size of array is: {array_example_1.size}\") # 6*4=24"
   ]
  },
  {
   "cell_type": "code",
   "execution_count": 111,
   "id": "326f46af",
   "metadata": {},
   "outputs": [
    {
     "name": "stdout",
     "output_type": "stream",
     "text": [
      "Shape of array is: (3, 2, 4)\n"
     ]
    }
   ],
   "source": [
    "# ndarray.shape will display a tuple of integers that indicate the number of elements stored along each dimension of the array. If, for example, you have a 2-D array with 2 rows and 3 columns, the shape of your array is (2, 3)\n",
    "array_example_2 = np.array([[[0, 1, 2, 3],\n",
    "                           [4, 5, 6, 7]],\n",
    "\n",
    "                          [[0, 1, 2, 3],\n",
    "                           [4, 5, 6, 7]],\n",
    "\n",
    "                          [[0 ,1 ,2, 3],\n",
    "                           [4, 5, 6, 7]]])\n",
    "# print(array_example_2)\n",
    "# shape of ndarray is also called as attribute of ndarray\n",
    "print(f\"Shape of array is: {array_example_2.shape}\") # 3- dimension, 2-rows, 4-columns  row*column"
   ]
  },
  {
   "cell_type": "code",
   "execution_count": null,
   "id": "c2e96bec",
   "metadata": {},
   "outputs": [],
   "source": [
    "# Note: The value before the comma specifies the row, the value after the comma specifies the column"
   ]
  },
  {
   "cell_type": "code",
   "execution_count": null,
   "id": "2dba6556",
   "metadata": {},
   "outputs": [],
   "source": [
    "# np.mean(ndarray)\n",
    "# np.std(ndarray)\n",
    "# np.median(ndarray)\n",
    "# np.corrcoef(ndarray)\n",
    "# gk_heights=np_heights[np_positions=='GK']\n",
    "# other_heights=np_heights[np_positions!='GK']"
   ]
  },
  {
   "cell_type": "code",
   "execution_count": null,
   "id": "37039fcc",
   "metadata": {},
   "outputs": [],
   "source": []
  },
  {
   "cell_type": "code",
   "execution_count": null,
   "id": "3575a226",
   "metadata": {},
   "outputs": [],
   "source": []
  },
  {
   "cell_type": "code",
   "execution_count": null,
   "id": "87aca6bb",
   "metadata": {},
   "outputs": [],
   "source": []
  },
  {
   "cell_type": "code",
   "execution_count": null,
   "id": "52fc4cd4",
   "metadata": {},
   "outputs": [],
   "source": []
  },
  {
   "cell_type": "code",
   "execution_count": null,
   "id": "2d9635ad",
   "metadata": {},
   "outputs": [],
   "source": []
  },
  {
   "cell_type": "code",
   "execution_count": null,
   "id": "9fa597f2",
   "metadata": {},
   "outputs": [],
   "source": []
  },
  {
   "cell_type": "code",
   "execution_count": null,
   "id": "70184301",
   "metadata": {},
   "outputs": [],
   "source": []
  },
  {
   "cell_type": "code",
   "execution_count": null,
   "id": "b04d5f77",
   "metadata": {},
   "outputs": [],
   "source": []
  },
  {
   "cell_type": "code",
   "execution_count": null,
   "id": "fee25640",
   "metadata": {},
   "outputs": [],
   "source": []
  },
  {
   "cell_type": "code",
   "execution_count": null,
   "id": "1a71eab2",
   "metadata": {},
   "outputs": [],
   "source": []
  },
  {
   "cell_type": "code",
   "execution_count": null,
   "id": "be326530",
   "metadata": {},
   "outputs": [],
   "source": []
  },
  {
   "cell_type": "code",
   "execution_count": null,
   "id": "ae9e92bd",
   "metadata": {},
   "outputs": [],
   "source": []
  },
  {
   "cell_type": "code",
   "execution_count": null,
   "id": "eb9c1a70",
   "metadata": {},
   "outputs": [],
   "source": []
  },
  {
   "cell_type": "code",
   "execution_count": null,
   "id": "f3e0c81a",
   "metadata": {},
   "outputs": [],
   "source": []
  },
  {
   "cell_type": "code",
   "execution_count": null,
   "id": "54c55886",
   "metadata": {},
   "outputs": [],
   "source": []
  },
  {
   "cell_type": "code",
   "execution_count": null,
   "id": "6e8f5565",
   "metadata": {},
   "outputs": [],
   "source": []
  },
  {
   "cell_type": "code",
   "execution_count": null,
   "id": "df082b7c",
   "metadata": {},
   "outputs": [],
   "source": []
  },
  {
   "cell_type": "code",
   "execution_count": null,
   "id": "ea778da9",
   "metadata": {},
   "outputs": [],
   "source": []
  },
  {
   "cell_type": "code",
   "execution_count": null,
   "id": "d4c4d42c",
   "metadata": {},
   "outputs": [],
   "source": []
  },
  {
   "cell_type": "code",
   "execution_count": null,
   "id": "3d4cb0b6",
   "metadata": {},
   "outputs": [],
   "source": []
  }
 ],
 "metadata": {
  "kernelspec": {
   "display_name": "Python 3 (ipykernel)",
   "language": "python",
   "name": "python3"
  },
  "language_info": {
   "codemirror_mode": {
    "name": "ipython",
    "version": 3
   },
   "file_extension": ".py",
   "mimetype": "text/x-python",
   "name": "python",
   "nbconvert_exporter": "python",
   "pygments_lexer": "ipython3",
   "version": "3.9.7"
  }
 },
 "nbformat": 4,
 "nbformat_minor": 5
}
